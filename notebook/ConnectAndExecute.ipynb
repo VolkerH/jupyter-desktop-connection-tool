{
 "cells": [
  {
   "cell_type": "markdown",
   "id": "aerial-removal",
   "metadata": {},
   "source": [
    "## Connect to server and start jupyter-docker-desktop\n",
    "\n",
    "Aim: these are my experiments for starting a jupyter-docker-desktop on a remote server via ssh. \n",
    "The idea is to turn this into a little gui.\n",
    "\n",
    "The GUI will need input fields for the HOSTIP, USER, and PRIVATEKEYFILE\n",
    "as well as buttons for\n",
    "\n",
    "* Connect\n",
    "* Start Server\n",
    "* Kill Server\n",
    "* Close Connection\n",
    "\n",
    "There will also need to be an output field for the URL.\n",
    "\n",
    "On the server, the user needs to have the following `rundocker.sh` file in their home directory:\n",
    "\n",
    "```\n",
    "#!/bin/bash\n",
    "FREEPORT=`/usr/bin/python3 -c 'import socket; s=socket.socket(); s.bind((\"\", 0)); print(s.getsockname()[1]); s.close()'`\n",
    "echo $FREEPORT > .jupyter_docker_port\n",
    "docker run --rm  -p 10.11.19.188:$FREEPORT:8888 -v /home/spacem:/spacem_home spacem/jupyter-desktop-server 2> .jupyter_docker_stderr\n",
    "\n",
    "```\n",
    "\n",
    "They also need to have a public key corresponding to their private key on the server."
   ]
  },
  {
   "cell_type": "code",
   "execution_count": 1,
   "id": "industrial-renewal",
   "metadata": {},
   "outputs": [],
   "source": [
    "import paramiko\n",
    "import time\n",
    "import re"
   ]
  },
  {
   "cell_type": "code",
   "execution_count": 2,
   "id": "unexpected-economics",
   "metadata": {},
   "outputs": [],
   "source": [
    "HOSTIP = \"10.11.19.188\"\n",
    "USER = \"spacem\"\n",
    "PRIVATEKEYFILE = \"/home/hilsenst/.ssh/id_rsa\"\n",
    "\n",
    "DOCKER_START_CMD = '$HOME/rundocker.sh'\n",
    "DOCKER_STDERR_CMD =  \"/usr/bin/cat $HOME/.jupyter_docker_stderr\"\n",
    "DOCKER_PORT_CMD = \"/usr/bin/cat $HOME/.jupyter_docker_port\"\n",
    "DOCKER_KILL_CMD = \"/usr/bin/killall docker\"\n",
    "\n",
    "SLEEPTIME = 5"
   ]
  },
  {
   "cell_type": "markdown",
   "id": "administrative-message",
   "metadata": {},
   "source": [
    "This is the init part that sets up the connection info:"
   ]
  },
  {
   "cell_type": "code",
   "execution_count": 3,
   "id": "regulated-midwest",
   "metadata": {},
   "outputs": [],
   "source": [
    "k = paramiko.RSAKey.from_private_key_file(PRIVATEKEYFILE)\n",
    "c = paramiko.SSHClient()\n",
    "c.set_missing_host_key_policy(paramiko.AutoAddPolicy())"
   ]
  },
  {
   "cell_type": "markdown",
   "id": "aware-defensive",
   "metadata": {},
   "source": [
    "This will need to be bound to the _Connect_ button"
   ]
  },
  {
   "cell_type": "code",
   "execution_count": 4,
   "id": "toxic-domain",
   "metadata": {},
   "outputs": [],
   "source": [
    "c.connect( hostname = HOSTIP, username = USER, pkey = k )"
   ]
  },
  {
   "cell_type": "markdown",
   "id": "sustained-lightning",
   "metadata": {},
   "source": [
    "This will need to be bound to the _Start Server_ button"
   ]
  },
  {
   "cell_type": "code",
   "execution_count": 5,
   "id": "earned-burke",
   "metadata": {},
   "outputs": [
    {
     "name": "stdout",
     "output_type": "stream",
     "text": [
      "http://10.11.19.188:35727/?token=1216b0a1d24793882cb0abd09eaa0e9f8ecfd7ad672b888e\n"
     ]
    }
   ],
   "source": [
    "stdin , stdout, stderr = c.exec_command(DOCKER_START_CMD)\n",
    "time.sleep(SLEEPTIME) # give server some time to start up\n",
    "\n",
    "# Jupyterlab sends connection URL to stderr, which\n",
    "# we redirect into a file in the startup script on \n",
    "# the server. \n",
    "stdin , stdout, stderr = c.exec_command(DOCKER_STDERR_CMD)\n",
    "catout = stdout.read()\n",
    "for line in catout.decode('utf-8').split(\"\\n\"):\n",
    "    m = re.match(r'.*(?P<token>\\?token=.+)', line)\n",
    "    if m is not None:\n",
    "        break\n",
    "token = m[\"token\"]\n",
    "\n",
    "# The startup script on the server looks for an\n",
    "# available port number and redirects it into a file\n",
    "stdin , stdout, stderr = c.exec_command(DOCKER_PORT_CMD)\n",
    "port = stdout.read().decode('utf-8').strip()\n",
    "\n",
    "print(f\"http://{HOSTIP}:{port}/{token}\")"
   ]
  },
  {
   "cell_type": "markdown",
   "id": "radical-ethics",
   "metadata": {},
   "source": [
    "This will need to be bound to the _Kill Server_ button"
   ]
  },
  {
   "cell_type": "code",
   "execution_count": null,
   "id": "endless-reach",
   "metadata": {},
   "outputs": [],
   "source": [
    "stdin , stdout, stderr = c.exec_command(DOCKER_KILL_CMD)"
   ]
  },
  {
   "cell_type": "markdown",
   "id": "selected-banking",
   "metadata": {},
   "source": [
    "This will need to be bound to the _Close Connection_ button"
   ]
  },
  {
   "cell_type": "code",
   "execution_count": null,
   "id": "cardiac-optics",
   "metadata": {},
   "outputs": [],
   "source": [
    "c.close()"
   ]
  }
 ],
 "metadata": {
  "kernelspec": {
   "display_name": "Python 3",
   "language": "python",
   "name": "python3"
  },
  "language_info": {
   "codemirror_mode": {
    "name": "ipython",
    "version": 3
   },
   "file_extension": ".py",
   "mimetype": "text/x-python",
   "name": "python",
   "nbconvert_exporter": "python",
   "pygments_lexer": "ipython3",
   "version": "3.8.8"
  }
 },
 "nbformat": 4,
 "nbformat_minor": 5
}
